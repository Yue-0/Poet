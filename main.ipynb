{
 "cells": [
  {
   "attachments": {},
   "cell_type": "markdown",
   "metadata": {},
   "source": [
    "# 让AI开始作诗"
   ]
  },
  {
   "attachments": {},
   "cell_type": "markdown",
   "metadata": {},
   "source": [
    "本AI可以实现以下两种功能：\n",
    "1. 续写诗句\n",
    "2. 创作藏头诗\n",
    "\n",
    "首先，运行下面的代码加载AI"
   ]
  },
  {
   "cell_type": "code",
   "execution_count": null,
   "metadata": {
    "execution": {
     "iopub.execute_input": "2023-01-08T11:08:57.123352Z",
     "iopub.status.busy": "2023-01-08T11:08:57.122693Z",
     "iopub.status.idle": "2023-01-08T11:08:58.555190Z",
     "shell.execute_reply": "2023-01-08T11:08:58.554209Z",
     "shell.execute_reply.started": "2023-01-08T11:08:57.123318Z"
    },
    "scrolled": true
   },
   "outputs": [],
   "source": [
    "from poet import Poet\n",
    "\n",
    "AI = Poet()\n",
    "print(\"加载完成！\")\n"
   ]
  },
  {
   "attachments": {},
   "cell_type": "markdown",
   "metadata": {},
   "source": [
    "运行下面的代码，**让AI续写诗句**"
   ]
  },
  {
   "cell_type": "code",
   "execution_count": null,
   "metadata": {
    "execution": {
     "iopub.execute_input": "2023-01-08T11:09:01.414170Z",
     "iopub.status.busy": "2023-01-08T11:09:01.413096Z",
     "iopub.status.idle": "2023-01-08T11:09:18.267256Z",
     "shell.execute_reply": "2023-01-08T11:09:18.266114Z",
     "shell.execute_reply.started": "2023-01-08T11:09:01.414135Z"
    },
    "scrolled": true,
    "tags": []
   },
   "outputs": [],
   "source": [
    "print(AI.renewal(input(\"请输入要续写的诗句：\")))\n"
   ]
  },
  {
   "attachments": {},
   "cell_type": "markdown",
   "metadata": {},
   "source": [
    "运行下面的代码，**让AI创作藏头诗**"
   ]
  },
  {
   "cell_type": "code",
   "execution_count": null,
   "metadata": {
    "execution": {
     "iopub.execute_input": "2023-01-08T11:10:09.265303Z",
     "iopub.status.busy": "2023-01-08T11:10:09.264771Z",
     "iopub.status.idle": "2023-01-08T11:10:13.330890Z",
     "shell.execute_reply": "2023-01-08T11:10:13.329858Z",
     "shell.execute_reply.started": "2023-01-08T11:10:09.265272Z"
    },
    "scrolled": true,
    "tags": []
   },
   "outputs": [],
   "source": [
    "print(AI.acrostic(input(\"请输入藏头诗的头：\")))\n"
   ]
  }
 ],
 "metadata": {
  "kernelspec": {
   "display_name": "Python 3",
   "language": "python",
   "name": "python3"
  },
  "language_info": {
   "codemirror_mode": {
    "name": "ipython",
    "version": 3
   },
   "file_extension": ".py",
   "mimetype": "text/x-python",
   "name": "python",
   "nbconvert_exporter": "python",
   "pygments_lexer": "ipython3",
   "version": "3.9.10"
  },
  "vscode": {
   "interpreter": {
    "hash": "f0aab24cb9b67dc6d30ab1a8a57807ad38c097fbc2d511a79f063a277d3dac6a"
   }
  }
 },
 "nbformat": 4,
 "nbformat_minor": 4
}
